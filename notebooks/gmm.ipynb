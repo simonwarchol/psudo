{
 "cells": [
  {
   "cell_type": "code",
   "execution_count": 1,
   "metadata": {},
   "outputs": [
    {
     "data": {
      "text/plain": [
       "<zarr.core.Array '/2' (12, 785, 628) uint16>"
      ]
     },
     "execution_count": 1,
     "metadata": {},
     "output_type": "execute_result"
    }
   ],
   "source": [
    "import tifffile as tf \n",
    "import zarr\n",
    "\n",
    "# read tiff file\n",
    "channel_io = tf.TiffFile('/Users/swarchol/Downloads/exemplar-001 (1)/registration/exemplar-001.ome.tif', is_ome=False)\n",
    "channels = zarr.open(channel_io.series[0].aszarr())\n",
    "channels[2]"
   ]
  },
  {
   "cell_type": "code",
   "execution_count": 7,
   "metadata": {},
   "outputs": [
    {
     "ename": "IndexError",
     "evalue": "invalid index to scalar variable.",
     "output_type": "error",
     "traceback": [
      "\u001b[0;31m---------------------------------------------------------------------------\u001b[0m",
      "\u001b[0;31mIndexError\u001b[0m                                Traceback (most recent call last)",
      "\u001b[1;32m/Users/swarchol/Research/psudo/notebooks/gmm.ipynb Cell 2\u001b[0m line \u001b[0;36m1\n\u001b[0;32m----> <a href='vscode-notebook-cell:/Users/swarchol/Research/psudo/notebooks/gmm.ipynb#W1sZmlsZQ%3D%3D?line=0'>1</a>\u001b[0m channels[\u001b[39m0\u001b[39;49m][\u001b[39m1\u001b[39;49m][\u001b[39m2\u001b[39;49m][\u001b[39m3\u001b[39;49m][\u001b[39m4\u001b[39;49m]\n",
      "\u001b[0;31mIndexError\u001b[0m: invalid index to scalar variable."
     ]
    }
   ],
   "source": [
    "channels[0][1][2][3][4]"
   ]
  },
  {
   "cell_type": "code",
   "execution_count": 27,
   "metadata": {},
   "outputs": [],
   "source": [
    "# numpy to csv\n",
    "import numpy as np\n",
    "values = np.array(channels[2][0].flatten(), dtype=np.uint16)\n",
    "np.savetxt(\"values.csv\", values,  fmt='%i', delimiter=\",\")"
   ]
  },
  {
   "cell_type": "code",
   "execution_count": 26,
   "metadata": {},
   "outputs": [
    {
     "data": {
      "text/plain": [
       "array([59, 76, 72, ..., 65, 68,  0], dtype=uint16)"
      ]
     },
     "execution_count": 26,
     "metadata": {},
     "output_type": "execute_result"
    }
   ],
   "source": [
    "values"
   ]
  },
  {
   "cell_type": "code",
   "execution_count": 38,
   "metadata": {},
   "outputs": [
    {
     "data": {
      "text/plain": [
       "array([59., 76., 72., ..., 65., 68.,  0.])"
      ]
     },
     "execution_count": 38,
     "metadata": {},
     "output_type": "execute_result"
    }
   ],
   "source": [
    "# read csv to numpy array\n",
    "import numpy as np\n",
    "values = np.genfromtxt('./values.csv', delimiter=',')\n",
    "values"
   ]
  },
  {
   "cell_type": "code",
   "execution_count": 67,
   "metadata": {},
   "outputs": [
    {
     "name": "stdout",
     "output_type": "stream",
     "text": [
      "116.98012752379897 151.56003400292758 14.562541860581288 15.392261187267765\n",
      "133.91722457480074 182.3445563774631\n"
     ]
    },
    {
     "name": "stderr",
     "output_type": "stream",
     "text": [
      "/var/folders/ps/x7v31pds3gn4t11djwg0t03h0000gp/T/ipykernel_23399/3943088519.py:9: RuntimeWarning: divide by zero encountered in log\n",
      "  img_log = np.log([image_data > 0])\n"
     ]
    }
   ],
   "source": []
  },
  {
   "cell_type": "code",
   "execution_count": 72,
   "metadata": {},
   "outputs": [
    {
     "data": {
      "text/plain": [
       "(492980,)"
      ]
     },
     "execution_count": 72,
     "metadata": {},
     "output_type": "execute_result"
    }
   ],
   "source": [
    "values.shape"
   ]
  },
  {
   "cell_type": "code",
   "execution_count": 74,
   "metadata": {},
   "outputs": [
    {
     "data": {
      "text/plain": [
       "(4839.378206717191, 33805.43652048477)"
      ]
     },
     "execution_count": 74,
     "metadata": {},
     "output_type": "execute_result"
    }
   ],
   "source": [
    "packet_gmm = {}\n",
    "image_data = values.astype(np.float32)\n",
    "img_log = np.log(image_data[image_data > 0])\n",
    "gmm = GaussianMixture(3, max_iter=1000, tol=1e-6)\n",
    "gmm.fit(img_log.reshape((-1, 1)))\n",
    "\n",
    "means = gmm.means_[:, 0]\n",
    "i0, i1, i2 = np.argsort(means)\n",
    "mean1, mean2 = means[[i1, i2]]\n",
    "std1, std2 = gmm.covariances_[[i1, i2], 0, 0] ** 0.5\n",
    "\n",
    "x = np.linspace(mean1, mean2, 50)\n",
    "y1 = norm(mean1, std1).pdf(x) * gmm.weights_[i1]\n",
    "y2 = norm(mean2, std2).pdf(x) * gmm.weights_[i2]\n",
    "\n",
    "lmax = mean2 + 2 * std2\n",
    "lmin = x[np.argmin(np.abs(y1 - y2))]\n",
    "if lmin >= mean2:\n",
    "    lmin = mean2 - 2 * std2\n",
    "vmin = max(np.exp(lmin), image_data.min(), 0)\n",
    "vmax = min(np.exp(lmax), image_data.max())\n",
    "\n",
    "packet_gmm['vmin'] = np.rint(vmin)\n",
    "packet_gmm['vmax'] = np.rint(vmax)\n",
    "vmin, vmax"
   ]
  },
  {
   "cell_type": "code",
   "execution_count": null,
   "metadata": {},
   "outputs": [],
   "source": []
  }
 ],
 "metadata": {
  "kernelspec": {
   "display_name": "psudo",
   "language": "python",
   "name": "python3"
  },
  "language_info": {
   "codemirror_mode": {
    "name": "ipython",
    "version": 3
   },
   "file_extension": ".py",
   "mimetype": "text/x-python",
   "name": "python",
   "nbconvert_exporter": "python",
   "pygments_lexer": "ipython3",
   "version": "3.10.12"
  }
 },
 "nbformat": 4,
 "nbformat_minor": 2
}
